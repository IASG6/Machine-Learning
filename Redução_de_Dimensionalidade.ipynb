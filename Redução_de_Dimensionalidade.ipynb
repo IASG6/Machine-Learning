{
  "nbformat": 4,
  "nbformat_minor": 0,
  "metadata": {
    "colab": {
      "provenance": [],
      "authorship_tag": "ABX9TyN2J+q0ah//+Ig2Q6qcpgxg",
      "include_colab_link": true
    },
    "kernelspec": {
      "name": "python3",
      "display_name": "Python 3"
    },
    "language_info": {
      "name": "python"
    }
  },
  "cells": [
    {
      "cell_type": "markdown",
      "metadata": {
        "id": "view-in-github",
        "colab_type": "text"
      },
      "source": [
        "<a href=\"https://colab.research.google.com/github/elderoliveira-01/Projeto-de-Transfer-Learning-em-Python/blob/main/Redu%C3%A7%C3%A3o_de_Dimensionalidade.ipynb\" target=\"_parent\"><img src=\"https://colab.research.google.com/assets/colab-badge.svg\" alt=\"Open In Colab\"/></a>"
      ]
    },
    {
      "cell_type": "code",
      "source": [
        "from PIL import Image\n",
        "\n",
        "def carregar_imagem(nome_arquivo):\n",
        "    # Carrega a imagem e converte para RGB (se não estiver nesse formato)\n",
        "    imagem = Image.open(nome_arquivo).convert(\"RGB\")\n",
        "    # Converte a imagem para uma matriz de pixels\n",
        "    return list(imagem.getdata()), imagem.size"
      ],
      "metadata": {
        "id": "uR_op8F_9rTm"
      },
      "execution_count": 1,
      "outputs": []
    },
    {
      "cell_type": "code",
      "source": [
        "def converter_para_cinza(imagem_rgb, tamanho):\n",
        "    imagem_cinza = []\n",
        "    for pixel in imagem_rgb:\n",
        "        # A fórmula de luminância para converter RGB para cinza\n",
        "        cinza = int(0.2989 * pixel[0] + 0.5870 * pixel[1] + 0.1140 * pixel[2])\n",
        "        imagem_cinza.append(cinza)\n",
        "\n",
        "    # Organize os valores de pixels em uma matriz do mesmo tamanho da imagem\n",
        "    return [imagem_cinza[i:i + tamanho[0]] for i in range(0, len(imagem_cinza), tamanho[0])]"
      ],
      "metadata": {
        "id": "Ta9cTQJPefki"
      },
      "execution_count": 2,
      "outputs": []
    },
    {
      "cell_type": "code",
      "source": [
        "def binarizar_imagem(imagem_cinza, limiar=128):\n",
        "    imagem_binarizada = []\n",
        "    for linha in imagem_cinza:\n",
        "        linha_binarizada = []\n",
        "        for pixel in linha:\n",
        "            # Binarização: 0 para preto, 255 para branco\n",
        "            if pixel >= limiar:\n",
        "                linha_binarizada.append(255)\n",
        "            else:\n",
        "                linha_binarizada.append(0)\n",
        "        imagem_binarizada.append(linha_binarizada)\n",
        "    return imagem_binarizada"
      ],
      "metadata": {
        "id": "BGSsnfpFelpi"
      },
      "execution_count": 3,
      "outputs": []
    },
    {
      "cell_type": "code",
      "source": [
        "def salvar_imagem(imagem, nome_arquivo_saida, tamanho):\n",
        "    # Cria uma nova imagem a partir dos dados\n",
        "    imagem_flat = [pixel for linha in imagem for pixel in linha]\n",
        "    imagem_resultado = Image.new('L', tamanho)\n",
        "    imagem_resultado.putdata(imagem_flat)\n",
        "    imagem_resultado.save(nome_arquivo_saida)"
      ],
      "metadata": {
        "id": "IxAJ6wqDezYb"
      },
      "execution_count": 4,
      "outputs": []
    },
    {
      "cell_type": "code",
      "source": [
        "# Nome do arquivo da imagem\n",
        "nome_imagem = 'nome_arquivo.png'\n",
        "# Carrega a imagem\n",
        "imagem_rgb, tamanho = carregar_imagem(nome_imagem)\n",
        "# Converte para tons de cinza\n",
        "imagem_cinza = converter_para_cinza(imagem_rgb, tamanho)\n",
        "# Salva a imagem em tons de cinza\n",
        "salvar_imagem(imagem_cinza, 'nome_arquivo_cinza.png', tamanho)\n",
        "# Binariza a imagem\n",
        "imagem_binarizada = binarizar_imagem(imagem_cinza)\n",
        "# Salva a imagem binarizada (preto e branco)\n",
        "salvar_imagem(imagem_binarizada, 'nome_arquivo_binarizada.png', tamanho)\n"
      ],
      "metadata": {
        "id": "THVI3MepfEm8"
      },
      "execution_count": 5,
      "outputs": []
    }
  ]
}